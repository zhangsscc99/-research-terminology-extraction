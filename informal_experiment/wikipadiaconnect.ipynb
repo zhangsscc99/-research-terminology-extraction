{
 "cells": [
  {
   "cell_type": "code",
   "execution_count": 1,
   "metadata": {},
   "outputs": [
    {
     "name": "stdout",
     "output_type": "stream",
     "text": [
      "Requirement already satisfied: wikipedia in /opt/anaconda3/lib/python3.8/site-packages (1.4.0)\n",
      "Requirement already satisfied: beautifulsoup4 in /opt/anaconda3/lib/python3.8/site-packages (from wikipedia) (4.9.3)\n",
      "Requirement already satisfied: requests<3.0.0,>=2.0.0 in /opt/anaconda3/lib/python3.8/site-packages (from wikipedia) (2.24.0)\n",
      "Requirement already satisfied: soupsieve>1.2; python_version >= \"3.0\" in /opt/anaconda3/lib/python3.8/site-packages (from beautifulsoup4->wikipedia) (2.0.1)\n",
      "Requirement already satisfied: urllib3!=1.25.0,!=1.25.1,<1.26,>=1.21.1 in /opt/anaconda3/lib/python3.8/site-packages (from requests<3.0.0,>=2.0.0->wikipedia) (1.25.11)\n",
      "Requirement already satisfied: idna<3,>=2.5 in /opt/anaconda3/lib/python3.8/site-packages (from requests<3.0.0,>=2.0.0->wikipedia) (2.10)\n",
      "Requirement already satisfied: certifi>=2017.4.17 in /opt/anaconda3/lib/python3.8/site-packages (from requests<3.0.0,>=2.0.0->wikipedia) (2020.6.20)\n",
      "Requirement already satisfied: chardet<4,>=3.0.2 in /opt/anaconda3/lib/python3.8/site-packages (from requests<3.0.0,>=2.0.0->wikipedia) (3.0.4)\n"
     ]
    }
   ],
   "source": [
    "!pip install wikipedia"
   ]
  },
  {
   "cell_type": "code",
   "execution_count": 10,
   "metadata": {},
   "outputs": [
    {
     "name": "stdout",
     "output_type": "stream",
     "text": [
      "Go is an abstract strategy board game for two players in which the aim is to surround more territory than the opponent. The game was invented in China more than 2,500 years ago and is believed to be the oldest board game continuously played to the present day.\n"
     ]
    }
   ],
   "source": [
    "# importing the module\n",
    "import wikipedia\n",
    " \n",
    "# finding result for the search\n",
    "# sentences = 2 refers to numbers of line\n",
    "result = wikipedia.summary(\"围棋\", sentences = 2)\n",
    " \n",
    "# printing the result\n",
    "print(result)"
   ]
  },
  {
   "cell_type": "code",
   "execution_count": 13,
   "metadata": {},
   "outputs": [
    {
     "name": "stdout",
     "output_type": "stream",
     "text": [
      "['Go (game)', 'Go Player (TV series)', 'AlphaGo versus Ke Jie', 'AlphaGo versus Fan Hui', 'Chinese Weiqi Association', 'Fan Hui', 'Future of Go Summit', 'History of Go', 'Solved game', 'Tang Weixing', 'Qiwang (Go)', 'Go at the 2008 World Mind Sports Games', 'Ke Jie', 'Leela Zero', 'Leela (software)', 'Weichang Manchu and Mongol Autonomous County', 'Gian-Carlo Pascutto', 'AlphaGo', 'Yang Dingxin', '9 Pin Zhi', 'Master (software)', 'Hikaru no Go', 'Qin Hao', 'Demis Hassabis', 'Xie Ke', 'List of Chinese animated series', 'Lian Xiao', 'Michael Redmond (Go player)', 'List of Go players', 'Komi (Go)', 'Fan Yunruo', 'Chunlan Cup', 'Qisheng', 'MLily Cup', 'Wu Qingyuan Cup', 'Gu Li (Go player)', 'Jan Šimara', 'Park Junghwan', 'Choi Cheol-han', 'Tsuzuki Yoneko', 'Ing Cup', 'Kong Jie', 'Tygem', 'Ing Chang-ki', 'China–Japan Tengen', 'Darkforest', 'Xinren Wang', 'Chen Yaoye', 'Princess Silver', 'Ocean Flame', 'Bailing Cup', 'Mi Yuting', 'China-Japan Supermatches', 'Singapore Weiqi Association', 'Shi Yue (Go player)', 'Shin Min-jun', 'Wang Ziwen', 'Huang Xuan', 'I-Chen Wu', 'Zhang Xueying', 'NEC Cup (China)', 'Jing Chao', 'List of township-level divisions of Shandong', 'Computer Go UEC Cup', 'Deaths in July 2020', 'Igo Hatsuyōron', 'Liu Tao', 'Luo Yunxi', 'Zhou Ruiyang', 'Affiliated High School of Peking University', 'CJK Unified Ideographs (Unicode block)', 'List of awards and nominations received by Lay Zhang', 'Hanyu Shuiping Kaoshi', 'List of township-level divisions of Hubei', 'Zhang Jiayi', 'Day Day Up', 'Heart and Greed', 'Qin Hailu', 'Kargilik Town', 'Wallace Chung', 'Yangjiaqiao, Xiangtan', 'List of Pleasant Goat and Big Big Wolf episodes', 'Bai language', 'List of township-level divisions of Hebei', 'List of township-level divisions of Hunan', 'The 4th V Chart Awards', 'Jolin Tsai', 'List of Chinese loanwords in Indonesian', 'Star Awards 20', 'Ayanga', 'Du Zhiguo', 'List of awards and nominations received by Jolin Tsai', 'Star Awards 2018', 'Star Awards 2010', 'List of village-level divisions of Shandong', 'Myself (album)', 'Star Awards 2016', 'List of township-level divisions of Guangxi']\n",
      "98\n"
     ]
    }
   ],
   "source": [
    "import wikipedia\n",
    " \n",
    "# getting suggestions\n",
    "result = wikipedia.search(\"围棋\", results = 12000)\n",
    " \n",
    "# printing the result\n",
    "print(result)\n",
    "print(len(result))\n",
    "#wiki result is not even more than our termolator output results .\n"
   ]
  },
  {
   "cell_type": "code",
   "execution_count": 28,
   "metadata": {},
   "outputs": [
    {
     "name": "stdout",
     "output_type": "stream",
     "text": [
      "围棋\n",
      "['围棋']\n"
     ]
    }
   ],
   "source": [
    "import wikipedia\n",
    "wikipedia.set_lang(\"zh\")\n",
    "#print(wikipedia.search(\"超级大大炸鸡烤鸡汉堡\",results=1))\n",
    "string=\"围棋\"\n",
    "if wikipedia.search(string,results=1)[0]==string:\n",
    "    print(string)\n",
    "print(wikipedia.search(string,results=1))"
   ]
  },
  {
   "cell_type": "code",
   "execution_count": null,
   "metadata": {},
   "outputs": [],
   "source": []
  }
 ],
 "metadata": {
  "kernelspec": {
   "display_name": "Python 3.8.5 ('base')",
   "language": "python",
   "name": "python3"
  },
  "language_info": {
   "codemirror_mode": {
    "name": "ipython",
    "version": 3
   },
   "file_extension": ".py",
   "mimetype": "text/x-python",
   "name": "python",
   "nbconvert_exporter": "python",
   "pygments_lexer": "ipython3",
   "version": "3.8.5"
  },
  "vscode": {
   "interpreter": {
    "hash": "40d3a090f54c6569ab1632332b64b2c03c39dcf918b08424e98f38b5ae0af88f"
   }
  }
 },
 "nbformat": 4,
 "nbformat_minor": 4
}
