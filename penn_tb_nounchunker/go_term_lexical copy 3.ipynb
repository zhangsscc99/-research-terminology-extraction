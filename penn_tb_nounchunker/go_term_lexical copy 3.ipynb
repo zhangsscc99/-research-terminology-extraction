{
 "cells": [
  {
   "cell_type": "code",
   "execution_count": 1,
   "metadata": {},
   "outputs": [],
   "source": [
    "\n",
    "\n",
    "import os\n",
    "paths=os.listdir('/Users/mac/Desktop/ngram/brandeisoutput')\n",
    "paths=[i for i in paths if i.endswith('withoutnum.txt') ]\n",
    "for i in range(len(paths)):\n",
    "    paths[i]='/Users/mac/Desktop/ngram/brandeisoutput/'+paths[i]\n",
    "paths=['/Users/mac/Desktop/ngram/brandeisoutput/go_words.txt']\n",
    "def load_file(path):\n",
    "    global original_lst\n",
    "    original_lst=[]\n",
    "   \n",
    "    with open(path) as f3:\n",
    "        for line in f3:\n",
    "            original_lst.append(line.strip('\\n').split())\n",
    "    f3.close()"
   ]
  },
  {
   "cell_type": "code",
   "execution_count": 2,
   "metadata": {},
   "outputs": [],
   "source": [
    "\n",
    "def handle_raw(wordlst_brandeis):\n",
    "    #print(wordlst_brandeis[0])\n",
    "    global reslst\n",
    "    reslst=[]\n",
    "    for i in range(len(wordlst_brandeis)):\n",
    "        each_word=[]\n",
    "        #print(each_word)\n",
    "        for j in range(len(wordlst_brandeis[i])):\n",
    "            #\n",
    "            # print(wordlst_brandeis[i][j])\n",
    "            res=wordlst_brandeis[i][j].split('_')\n",
    "            each_word.append(res)\n",
    "        reslst.append(each_word)\n",
    "    return reslst\n"
   ]
  },
  {
   "cell_type": "code",
   "execution_count": null,
   "metadata": {},
   "outputs": [],
   "source": []
  },
  {
   "cell_type": "markdown",
   "metadata": {},
   "source": [
    "# check noun combinations stats(bigram,3gram,4gram,5....)"
   ]
  },
  {
   "cell_type": "code",
   "execution_count": 3,
   "metadata": {},
   "outputs": [],
   "source": [
    "def all_ngramfreq(reslst):\n",
    "    global cntlst\n",
    "    global n_percent\n",
    "\n",
    "    cntlst=[0]*20\n",
    "    counter=0\n",
    "    for i in range(len(reslst)):\n",
    "        cntn=0\n",
    "        condition=True\n",
    "        for j in range(len(reslst[i])):\n",
    "            \n",
    "            \n",
    "            if reslst[i][j][1] !='NN':\n",
    "                condition=False\n",
    "        cntlst[cntn]+=1\n",
    "        if condition==True:\n",
    "            counter+=1\n",
    "        if condition==True:\n",
    "            cntn=len(reslst[i])\n",
    "            #for j in range(len(reslst[i])):\n",
    "            #    if reslst[i][j][1]=='NN':\n",
    "\n",
    "            #        cntn+=1\n",
    "        cntlst[cntn]+=1\n",
    "    cntlst.pop(0)\n",
    "    n_percent=counter/len(reslst)\n",
    "\n",
    "\n",
    "            "
   ]
  },
  {
   "cell_type": "code",
   "execution_count": 4,
   "metadata": {},
   "outputs": [],
   "source": [
    "#cntlst,len(reslst),n_percent, frequency, sorteddict"
   ]
  },
  {
   "cell_type": "code",
   "execution_count": 5,
   "metadata": {},
   "outputs": [],
   "source": [
    "def create_all_combi():\n",
    "    global lexical_combi_all\n",
    "    global wordsonly\n",
    "    lexical_combi_all=[]\n",
    "    wordsonly=[]\n",
    "    for i in range(len(reslst)):\n",
    "        lexical_combi=[]\n",
    "        word=''\n",
    "        #wordsonly.append(reslst[i][0])\n",
    "        for j in range(len(reslst[i])):\n",
    "            word+=reslst[i][j][0]\n",
    "            lexical_combi.append(reslst[i][j][1])\n",
    "        lexical_combi_all.append(lexical_combi)\n",
    "        wordsonly.append(word)\n",
    "    lexical_combi_all\n",
    "    #wordsonly\n",
    "\n",
    "    for i in range(len(lexical_combi_all)):\n",
    "        lexical_combi_all[i]=' '.join(lexical_combi_all[i])\n",
    "    #lexical_combi_all\n",
    "\n",
    "\n",
    "            "
   ]
  },
  {
   "cell_type": "code",
   "execution_count": 6,
   "metadata": {},
   "outputs": [],
   "source": [
    "#res_frequency={}\n",
    "def create_freq():\n",
    "   global frequency \n",
    "   frequency = {}\n",
    "\n",
    "   # iterating over the list\n",
    "   for item in lexical_combi_all:\n",
    "      # checking the element in dictionary\n",
    "      if item in frequency:\n",
    "         # incrementing the counr\n",
    "         frequency[item] += 1\n",
    "      else:\n",
    "         # initializing the count\n",
    "         frequency[item] = 1\n",
    "   #res_frequency.update(frequency)\n"
   ]
  },
  {
   "cell_type": "code",
   "execution_count": null,
   "metadata": {},
   "outputs": [],
   "source": []
  },
  {
   "cell_type": "code",
   "execution_count": 7,
   "metadata": {},
   "outputs": [],
   "source": [
    "\n",
    "#path=paths[0]\n",
    "load_file(paths[0])\n",
    "res_lst=handle_raw(original_lst)\n",
    "all_ngramfreq(res_lst)\n",
    "create_all_combi()\n",
    "create_freq()\n",
    "sorteddict={k: v for k, v in sorted(frequency.items(), key=lambda item: item[1],reverse=True)}\n"
   ]
  },
  {
   "cell_type": "code",
   "execution_count": 8,
   "metadata": {},
   "outputs": [],
   "source": [
    "def pipeline_for_all_stats():\n",
    "    global res_freq\n",
    "    res_freq={}\n",
    "    global all_cntlst,all_n_percent\n",
    "    all_cntlst=[0]*20\n",
    "    all_n_percent=0\n",
    "\n",
    "    for i in range(len(paths)):\n",
    "        load_file(paths[i])\n",
    "        res_lst=handle_raw(original_lst)\n",
    "        all_ngramfreq(res_lst)\n",
    "        create_all_combi()\n",
    "        create_freq()\n",
    "        res_freq.update(frequency)\n",
    "        sorteddict={k: v for k, v in sorted(frequency.items(), key=lambda item: item[1],reverse=True)}\n",
    "        for i in range(len(cntlst)):\n",
    "            all_cntlst[i]+=cntlst[i]\n",
    "        all_n_percent+=n_percent\n",
    "    all_n_percent=all_n_percent/len(paths)\n",
    "pipeline_for_all_stats()\n",
    "        \n",
    "    \n",
    "    "
   ]
  },
  {
   "cell_type": "code",
   "execution_count": 9,
   "metadata": {},
   "outputs": [
    {
     "data": {
      "text/plain": [
       "0.7232758620689655"
      ]
     },
     "execution_count": 9,
     "metadata": {},
     "output_type": "execute_result"
    }
   ],
   "source": [
    "all_n_percent"
   ]
  },
  {
   "cell_type": "code",
   "execution_count": 16,
   "metadata": {},
   "outputs": [
    {
     "data": {
      "text/plain": [
       "[809, 25, 0, 0, 0, 0, 0, 0, 0, 0, 0, 0, 0, 0, 0, 0, 0, 0, 0, 0]"
      ]
     },
     "execution_count": 16,
     "metadata": {},
     "output_type": "execute_result"
    }
   ],
   "source": [
    "all_cntlst"
   ]
  },
  {
   "cell_type": "code",
   "execution_count": 11,
   "metadata": {},
   "outputs": [
    {
     "data": {
      "text/plain": [
       "0.0007994447980491247"
      ]
     },
     "execution_count": 11,
     "metadata": {},
     "output_type": "execute_result"
    }
   ],
   "source": [
    "sum(all_cntlst)/1043224"
   ]
  },
  {
   "cell_type": "code",
   "execution_count": 12,
   "metadata": {},
   "outputs": [
    {
     "data": {
      "text/plain": [
       "0.02997601918465228"
      ]
     },
     "execution_count": 12,
     "metadata": {},
     "output_type": "execute_result"
    }
   ],
   "source": [
    "all_cntlst[1]/sum(all_cntlst)"
   ]
  },
  {
   "cell_type": "code",
   "execution_count": 13,
   "metadata": {},
   "outputs": [
    {
     "data": {
      "text/plain": [
       "{'NN': 809,\n",
       " 'P NN': 16,\n",
       " 'OD M NN': 1,\n",
       " 'P': 10,\n",
       " 'DT NN': 21,\n",
       " 'Err': 3,\n",
       " 'JJ NN': 21,\n",
       " 'NN VA': 3,\n",
       " 'NN LC': 8,\n",
       " 'NR': 29,\n",
       " 'NN CC': 10,\n",
       " 'AD': 19,\n",
       " 'CS Err': 1,\n",
       " 'NN NN': 25,\n",
       " 'NT': 21,\n",
       " 'AD NN': 12,\n",
       " 'NN VV': 9,\n",
       " 'NN P NN': 1,\n",
       " 'VV': 15,\n",
       " 'JJ': 3,\n",
       " 'AD VV': 5,\n",
       " 'NR NN': 11,\n",
       " 'VV CD NN': 1,\n",
       " 'NN VC': 2,\n",
       " 'CD': 3,\n",
       " 'VV CD': 1,\n",
       " 'AS NN': 2,\n",
       " 'VV NN': 10,\n",
       " 'DT': 5,\n",
       " 'CS DT NN': 1,\n",
       " 'AD VC': 1,\n",
       " 'NN AD': 4,\n",
       " 'VC NN': 1,\n",
       " 'NN DT NN': 1,\n",
       " 'M NN': 1,\n",
       " 'NR P': 1,\n",
       " 'NN DEG': 2,\n",
       " 'VV AS': 1,\n",
       " 'VV DEC': 2,\n",
       " 'SB VV': 2,\n",
       " 'NN DEC': 1,\n",
       " 'LC': 3,\n",
       " 'AD VA': 5,\n",
       " 'DT M': 2,\n",
       " 'NN P': 4,\n",
       " 'CD M': 2,\n",
       " 'DEG NN': 4,\n",
       " 'CS': 4,\n",
       " 'NT NN': 2,\n",
       " 'VV Err': 1,\n",
       " 'PN': 3,\n",
       " 'AD P': 2,\n",
       " 'CD NN': 3,\n",
       " 'AD JJ NN': 1,\n",
       " 'AD P NN': 1,\n",
       " 'VV P': 1,\n",
       " 'NN JJ NN': 1,\n",
       " 'VE NN': 1,\n",
       " 'LC NN': 1,\n",
       " 'NR DEG': 1,\n",
       " 'CD CD': 1,\n",
       " 'DT NR': 1,\n",
       " 'LC NR': 1,\n",
       " 'P NN NN': 1,\n",
       " 'DEV NN': 1,\n",
       " 'PN DEG': 1,\n",
       " 'PN LC': 1,\n",
       " 'NN NN LC': 1,\n",
       " 'VC NR': 2,\n",
       " 'VC JJ NN': 1,\n",
       " 'CC': 2,\n",
       " 'VC P': 1,\n",
       " 'NT LC': 1,\n",
       " 'NN AD VV': 1,\n",
       " 'P Err': 1,\n",
       " '': 5,\n",
       " 'DT P NN': 1}"
      ]
     },
     "execution_count": 13,
     "metadata": {},
     "output_type": "execute_result"
    }
   ],
   "source": [
    "res_freq"
   ]
  },
  {
   "cell_type": "code",
   "execution_count": 14,
   "metadata": {},
   "outputs": [],
   "source": [
    "res_sorteddict={k: v for k, v in sorted(res_freq.items(), key=lambda item: item[1],reverse=True)}"
   ]
  },
  {
   "cell_type": "code",
   "execution_count": 15,
   "metadata": {},
   "outputs": [
    {
     "data": {
      "text/plain": [
       "{'NN': 809,\n",
       " 'NR': 29,\n",
       " 'NN NN': 25,\n",
       " 'DT NN': 21,\n",
       " 'JJ NN': 21,\n",
       " 'NT': 21,\n",
       " 'AD': 19,\n",
       " 'P NN': 16,\n",
       " 'VV': 15,\n",
       " 'AD NN': 12,\n",
       " 'NR NN': 11,\n",
       " 'P': 10,\n",
       " 'NN CC': 10,\n",
       " 'VV NN': 10,\n",
       " 'NN VV': 9,\n",
       " 'NN LC': 8,\n",
       " 'AD VV': 5,\n",
       " 'DT': 5,\n",
       " 'AD VA': 5,\n",
       " '': 5,\n",
       " 'NN AD': 4,\n",
       " 'NN P': 4,\n",
       " 'DEG NN': 4,\n",
       " 'CS': 4,\n",
       " 'Err': 3,\n",
       " 'NN VA': 3,\n",
       " 'JJ': 3,\n",
       " 'CD': 3,\n",
       " 'LC': 3,\n",
       " 'PN': 3,\n",
       " 'CD NN': 3,\n",
       " 'NN VC': 2,\n",
       " 'AS NN': 2,\n",
       " 'NN DEG': 2,\n",
       " 'VV DEC': 2,\n",
       " 'SB VV': 2,\n",
       " 'DT M': 2,\n",
       " 'CD M': 2,\n",
       " 'NT NN': 2,\n",
       " 'AD P': 2,\n",
       " 'VC NR': 2,\n",
       " 'CC': 2,\n",
       " 'OD M NN': 1,\n",
       " 'CS Err': 1,\n",
       " 'NN P NN': 1,\n",
       " 'VV CD NN': 1,\n",
       " 'VV CD': 1,\n",
       " 'CS DT NN': 1,\n",
       " 'AD VC': 1,\n",
       " 'VC NN': 1,\n",
       " 'NN DT NN': 1,\n",
       " 'M NN': 1,\n",
       " 'NR P': 1,\n",
       " 'VV AS': 1,\n",
       " 'NN DEC': 1,\n",
       " 'VV Err': 1,\n",
       " 'AD JJ NN': 1,\n",
       " 'AD P NN': 1,\n",
       " 'VV P': 1,\n",
       " 'NN JJ NN': 1,\n",
       " 'VE NN': 1,\n",
       " 'LC NN': 1,\n",
       " 'NR DEG': 1,\n",
       " 'CD CD': 1,\n",
       " 'DT NR': 1,\n",
       " 'LC NR': 1,\n",
       " 'P NN NN': 1,\n",
       " 'DEV NN': 1,\n",
       " 'PN DEG': 1,\n",
       " 'PN LC': 1,\n",
       " 'NN NN LC': 1,\n",
       " 'VC JJ NN': 1,\n",
       " 'VC P': 1,\n",
       " 'NT LC': 1,\n",
       " 'NN AD VV': 1,\n",
       " 'P Err': 1,\n",
       " 'DT P NN': 1}"
      ]
     },
     "execution_count": 15,
     "metadata": {},
     "output_type": "execute_result"
    }
   ],
   "source": [
    "res_sorteddict"
   ]
  }
 ],
 "metadata": {
  "kernelspec": {
   "display_name": "Python 3.8.5 ('base')",
   "language": "python",
   "name": "python3"
  },
  "language_info": {
   "codemirror_mode": {
    "name": "ipython",
    "version": 3
   },
   "file_extension": ".py",
   "mimetype": "text/x-python",
   "name": "python",
   "nbconvert_exporter": "python",
   "pygments_lexer": "ipython3",
   "version": "3.8.5"
  },
  "vscode": {
   "interpreter": {
    "hash": "40d3a090f54c6569ab1632332b64b2c03c39dcf918b08424e98f38b5ae0af88f"
   }
  }
 },
 "nbformat": 4,
 "nbformat_minor": 4
}
